{
 "cells": [
  {
   "cell_type": "code",
   "execution_count": 4,
   "metadata": {},
   "outputs": [],
   "source": [
    "from gensim.test.utils import datapath, get_tmpfile\n",
    "from gensim.models import KeyedVectors\n",
    "from gensim.scripts.glove2word2vec import glove2word2vec\n",
    "import numpy as np\n",
    "\n",
    "glove_file = datapath('/home/tim/repositories/personal/d3-viz/word_emb/glove.twitter.27B.100d.txt')\n",
    "tmp_file = get_tmpfile(\"/home/tim/repositories/personal/d3-viz/word_emb/embedding.txt\")\n",
    "_ = glove2word2vec(glove_file, tmp_file)\n",
    "\n",
    "#model = KeyedVectors.load_word2vec_format(tmp_file)\n"
   ]
  },
  {
   "cell_type": "code",
   "execution_count": 8,
   "metadata": {},
   "outputs": [],
   "source": [
    "pos = [\"i\",\"love\",\"the\",\"show\"]\n",
    "neg = [\"the\"\"show\",\"really\",\"sucks\"]"
   ]
  },
  {
   "cell_type": "code",
   "execution_count": 9,
   "metadata": {},
   "outputs": [
    {
     "name": "stdout",
     "output_type": "stream",
     "text": [
      "[-2.51154210e-01  9.81629997e-01  1.27256997e+00  4.31390047e-01\n",
      " -8.18623964e-01  4.62000072e-03  4.37999994e-01 -9.63583000e-01\n",
      "  2.76143009e-01 -4.69510034e-01  8.57915040e-02 -6.04259983e-01\n",
      " -2.05423000e+01 -5.17809987e-01  2.23869950e-01 -6.35809004e-01\n",
      " -5.60599975e-01 -4.80973382e-01 -1.56199400e+00  1.84720999e+00\n",
      " -1.90898998e-01  5.28570998e-01 -4.82445991e-01 -9.26009938e-02\n",
      "  6.12104014e-01 -4.09960997e+00 -3.96635005e-01  1.29090011e-01\n",
      "  4.42726001e-01 -1.46592403e+00 -1.59445816e+00 -8.34989011e-01\n",
      " -1.22487599e+00  3.05120006e-01  1.14092000e+00  6.37045989e-01\n",
      "  4.58930004e-01 -8.51327024e-01 -4.23654764e-01 -1.12436984e-01\n",
      " -5.24360001e+00 -6.68810017e-01  4.99313019e-01  4.76261012e-01\n",
      "  1.13808997e+00  1.33751699e+00  8.69597986e-01 -1.69872399e+00\n",
      "  7.18730018e-01 -1.97011000e+00 -1.17196653e+00  8.35260190e-02\n",
      "  4.38950062e-02  4.83236965e-01  7.73424990e-01 -3.65296006e-01\n",
      " -1.35401092e+00  2.74149984e-01  5.63061006e-01  1.27421992e-01\n",
      "  5.81127994e-01  1.60792015e-01 -1.33825001e+00 -5.95179796e-02\n",
      " -4.06845000e-01  2.19951565e-02 -1.57771006e+00  1.08680001e+00\n",
      " -1.14673201e+00  2.46085010e-01  1.70417002e+00 -7.22399995e-01\n",
      " -5.97628996e-01 -9.80590016e-01  1.54708996e+00 -6.64927002e-01\n",
      " -1.35733004e+00 -4.31190014e-01 -4.14159409e-01  2.69967001e-01\n",
      "  7.36249995e+00  1.07832004e+00 -1.03117700e+00  6.07749015e-01\n",
      "  8.97824398e-01  1.78529003e+00 -4.11363978e-01  1.12464000e+00\n",
      "  9.32073019e-01 -7.34300017e-01  7.23472605e-01  5.65049022e-01\n",
      "  3.20065998e-01 -7.48300031e-01 -1.37271402e+00  8.97469006e-01\n",
      "  3.06810036e-01 -1.69292000e+00  1.51583999e+00 -4.69980001e-01]\n"
     ]
    }
   ],
   "source": [
    "total = np.zeros(100,)\n",
    "for string in pos:\n",
    "    total += model.get_vector(string)\n",
    "print(total)"
   ]
  },
  {
   "cell_type": "code",
   "execution_count": 10,
   "metadata": {},
   "outputs": [
    {
     "data": {
      "text/plain": [
       "(100,)"
      ]
     },
     "execution_count": 10,
     "metadata": {},
     "output_type": "execute_result"
    }
   ],
   "source": [
    "model.get_vector(\"hello\").shape"
   ]
  },
  {
   "cell_type": "code",
   "execution_count": null,
   "metadata": {},
   "outputs": [],
   "source": []
  }
 ],
 "metadata": {
  "kernelspec": {
   "display_name": "Python 3",
   "language": "python",
   "name": "python3"
  },
  "language_info": {
   "codemirror_mode": {
    "name": "ipython",
    "version": 3
   },
   "file_extension": ".py",
   "mimetype": "text/x-python",
   "name": "python",
   "nbconvert_exporter": "python",
   "pygments_lexer": "ipython3",
   "version": "3.8.5"
  }
 },
 "nbformat": 4,
 "nbformat_minor": 4
}
